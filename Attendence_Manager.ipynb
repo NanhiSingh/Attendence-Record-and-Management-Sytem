# -*- coding: utf-8 -*-

import numpy as np
import pandas as pd
import xlsxwriter 
import openpyxl
from numpy import *
from pandas import *
import os.path


def createdata():
   # workbook=xlsxwriter.Workbook('Data.xlsx')
   # workbook2=xlsxwriter.Workbook('attendence.xlsx')
   # worksheet=workbook.add_worksheet('CSE')
    #worksheet1=workbook.add_worksheet('ECE')
    df1=pd.DataFrame([['Name','Roll No.','Branch','Year']])
    df2=df1
    with pd.ExcelWriter('Data.xlsx') as writer: 
        df1.to_excel(writer, sheet_name='CSE')
        df2.to_excel(writer, sheet_name='ECE')
    
    #df2=df1
    #df2.to_excel('Data.xlsx',sheet_name='ECE')
    print("database created succcessfully")
   #print(df1)

class student():
    def __init__(self,name,branch,year,roll):
        self.name=name
        self.branch=branch
        self.year=year
        self.roll=roll
        
    def getinfo(self):
        self.name=input("Enter Name:\n")
        self.branch=input("Enter Branch:\n")
        self.year=input("Enter Year of Studying:\n")
        self.roll=input("Enter Enrollment no:\n" )
    def putinfo(self):
        print("\nNmae:"+self.name)
        print("Branch:"+self.branch)
        print("Year:"+self.year)
        print("Enrollment No.:"+self.roll)
    def addstu(self):
        self.getinfo()
        workbook=xlsxwriter.Workbook('Data.xlsx')
        worksheet=workbook.add_worksheet('CSE')
        #worksheet1=workbook.add_worksheet('ECE')
        stu=[[self.name,self.roll,self.branch,self.year]]
        df3=pd.DataFrame(stu)
        #column=[[0]]
        print(df3)
        
        dfc=pd.read_excel('Data.xlsx',sheet_name='CSE')
        dfe=pd.read_excel('Data.xlsx',sheet_name='ECE')
        dfc=dfc.drop('Unnamed: 0',axis=1)
        dfe=dfe.drop('Unnamed: 0',axis=1)
       # print(dfc)
        df3=pd.DataFrame()
        df6=pd.DataFrame()
        
        if(self.branch=='CSE'):
            df3=pd.DataFrame(stu)
        elif(self.branch=='ECE'):
            df6=pd.DataFrame(stu)
        else:
            print("Enter branch name properly In CAPITAL letters as ECE and CSE")
            print("Student not added ")
        
        df4=pd.concat([dfc,df3],ignore_index=True)
        df4=df4.dropna(axis=1)
        df5=pd.concat([dfe,df6],ignore_index=True)
        df5=df5.dropna(axis=1)
       # print(df4)
       # print(df5)
        if(self.branch=='CSE' or self.branch=='ECE'):
            with pd.ExcelWriter('Data.xlsx') as writer:
                df4.to_excel(writer, sheet_name='CSE')
                df5.to_excel(writer, sheet_name='ECE')
                print("Student added successfully !")
           
            
    def search_name(self):
        print("Enter Student Name or Roll no.")
        str1=input()
        search_dfc=pd.read_excel('Data.xlsx',sheet_name='CSE')
        search_dfc=search_dfc.drop('Unnamed: 0',axis=1)
        search_dfe=pd.read_excel('Data.xlsx',sheet_name='ECE')
        search_dfe=search_dfe.drop('Unnamed: 0',axis=1)
        dftitle=pd.DataFrame([['Name','Roll No.','Branch','Year']])
        df0=search_dfc[search_dfc.isin([str1]).any(axis=1)]
        if df0.empty:
            df01=search_dfe[search_dfe.isin([str1]).any(axis=1)]
            if df01.empty:
                print("No student With Given Info")
            else:
                df01=pd.concat([dftitle,df01],ignore_index=True)
                print(df01)
        else:
            df0=pd.concat([dftitle,df0],ignore_index=True)
            print(df0)
           
        
s1=student('name','branch','year','roll')

cin=10
cin1=10
cin2=10

print("INSTRUCTION:\n1)first you have to create new database if previously not created\n2)you have to first add all students in database\n3)After adding all students You have to Import Database to course")
print("\nAbove Stated Steps are One Time steps(after creating new database and importing no need to do it again)\n")
t=os.path.exists("DATA.xlsx")
if(t==False):
    print("\nDatabase did not detected,First Create new database")
if(t==True):
    print("Database is Detected no need to create New")
    classday=[['class1','class2','class3','class4','class5','class6','class7','class8','class9','class10',
           'class11','class12','class13','class14','class15','class16','class17','class18','class19','class20',
           'class21','class22','class23','class24','class25','class26','class27','class28','class29','class30',
           'class31','class32','class33','class34','class35','class36','class37','class38','class39','class40']]
    coursedf_cse=pd.read_excel('Data.xlsx',sheet_name='CSE',usecols=[1,2])
    coursedf_ece=pd.read_excel('Data.xlsx',sheet_name='ECE',usecols=[1,2])
    count_cse=len(coursedf_cse.axes[0])
    count_cse=int(count_cse)
    count_ece=len(coursedf_ece.axes[0])
    count_ece=int(count_ece)
    #print(count)
    #print(coursedf)
    classdf_cse=pd.DataFrame(classday)
    #print(classdf)
    for i in range (1,count_cse):
        for j in range (0,40):
            classdf_cse.at[i,j]=0
        
    classdf_ece=pd.DataFrame(classday)
    #print(classdf)
    for i in range (1,count_ece):
        for j in range (0,40):
            classdf_ece.at[i,j]=0
            
            
          
    #print(classdf_cse)
    sheetdf_cse=pd.concat([coursedf_cse,classdf_cse],axis=1,ignore_index=True)
    #print(sheetdf_cse)
    sheetdf_ece=pd.concat([coursedf_ece,classdf_ece],axis=1,ignore_index=True)
    #print(sheetdf_ece)

    
class course():
    def __init__(self,branch):
        self.branch=branch
    def import_course(self):
        
        itw1cse=sheetdf_cse
        itw1cse.to_excel('itw1(cse).xlsx')
        itw1ece=sheetdf_ece
        itw1ece.to_excel('itw1(ece).xlsx')
        dsa=sheetdf_cse
        dsa.to_excel('DSA.xlsx')
        oop=sheetdf_cse
        oop.to_excel('OOP.xlsx')
        upcse=sheetdf_cse
        upcse.to_excel('M&I(cse).xlsx')
        upece=sheetdf_ece
        upece.to_excel('M&I(ece).xlsx')
        cso=sheetdf_cse
        cso.to_excel('CSO.xlsx')
        nmptcse=sheetdf_cse
        nmptcse.to_excel('NMPT(cse).xlsx')
        nmptece=sheetdf_ece
        nmptece.to_excel('NMPT(ece).xlsx')
        ss=sheetdf_ece
        ss.to_excel('Signal System.xlsx')
        nt=sheetdf_ece
        nt.to_excel('NT.xlsx')
        aic=sheetdf_ece
        aic.to_excel('AIC.xlsx')
        
c1=course('kl')

def itw1cse():
    at1=pd.read_excel('itw1(cse).xlsx')
    strc='class'
    print('enter class number')
    strn=input()
    classno=strc+strn
    strn=int(strn)
    cl=at1.iloc[:,3:43]
    call=at1.iloc[:,1:3]
    #print(cl.iloc[:,strn-1])
    col=len(call.axes[0])
    col=int(col)
    print("Enter '1' for Present and '0' for Absent")
    for i in range (1,col):
        pr=call.iloc[i,]
        pr=tuple(pr)
        pr=str(pr)
        print(pr)
        poll=int(input())
        cl.iloc[i,strn-1]=poll
    
    at2=pd.concat([call,cl],axis=1,ignore_index=True)
    
    at2.to_excel('itw1(cse).xlsx')

def itw1ece():
    at1=pd.read_excel('itw1(ece).xlsx')
    strc='class'
    print('enter class number')
    strn=input()
    classno=strc+strn
    strn=int(strn)
    cl=at1.iloc[:,3:43]
    call=at1.iloc[:,1:3]
    #print(cl.iloc[:,strn-1])
    col=len(call.axes[0])
    col=int(col)
    print("Enter '1' for Present and '0' for Absent")
    for i in range (1,col):
        pr=call.iloc[i,]
        pr=tuple(pr)
        pr=str(pr)
        print(pr)
        poll=int(input())
        cl.iloc[i,strn-1]=poll
    
    at2=pd.concat([call,cl],axis=1,ignore_index=True)
    
    at2.to_excel('itw1(ece).xlsx')
def dsa():
    at1=pd.read_excel('DSA.xlsx')
    strc='class'
    print('enter class number')
    strn=input()
    classno=strc+strn
    strn=int(strn)
    cl=at1.iloc[:,3:43]
    call=at1.iloc[:,1:3]
    #print(cl.iloc[:,strn-1])
    col=len(call.axes[0])
    col=int(col)
    print("Enter '1' for Present and '0' for Absent")
    for i in range (1,col):
        pr=call.iloc[i,]
        pr=tuple(pr)
        pr=str(pr)
        print(pr)
        poll=int(input())
        cl.iloc[i,strn-1]=poll
    
    at2=pd.concat([call,cl],axis=1,ignore_index=True)
    
    at2.to_excel('DSA.xlsx')

def oop():
    at1=pd.read_excel('OOP.xlsx')
    strc='class'
    print('enter class number')
    strn=input()
    classno=strc+strn
    strn=int(strn)
    cl=at1.iloc[:,3:43]
    call=at1.iloc[:,1:3]
    #print(cl.iloc[:,strn-1])
    col=len(call.axes[0])
    col=int(col)
    print("Enter '1' for Present and '0' for Absent")
    for i in range (1,col):
        pr=call.iloc[i,]
        pr=tuple(pr)
        pr=str(pr)
        print(pr)
        poll=int(input())
        cl.iloc[i,strn-1]=poll
    
    at2=pd.concat([call,cl],axis=1,ignore_index=True)

    at2.to_excel('OOP.xlsx')

def upcse():
    at1=pd.read_excel('M&I(cse).xlsx')
    strc='class'
    print('enter class number')
    strn=input()
    classno=strc+strn
    strn=int(strn)
    cl=at1.iloc[:,3:43]
    call=at1.iloc[:,1:3]
    #print(cl.iloc[:,strn-1])
    col=len(call.axes[0])
    col=int(col)
    print("Enter '1' for Present and '0' for Absent")
    for i in range (1,col):
        pr=call.iloc[i,]
        pr=tuple(pr)
        pr=str(pr)
        print(pr)
        poll=int(input())
        cl.iloc[i,strn-1]=poll
    
    at2=pd.concat([call,cl],axis=1,ignore_index=True)

    at2.to_excel('M&I(cse).xlsx')
    
def upece():
    at1=pd.read_excel('M&I(ece).xlsx')
    strc='class'
    print('enter class number')
    strn=input()
    classno=strc+strn
    strn=int(strn)
    cl=at1.iloc[:,3:43]
    call=at1.iloc[:,1:3]
    #print(cl.iloc[:,strn-1])
    col=len(call.axes[0])
    col=int(col)
    print("Enter '1' for Present and '0' for Absent")
    for i in range (1,col):
        pr=call.iloc[i,]
        pr=tuple(pr)
        pr=str(pr)
        print(pr)
        poll=int(input())
        cl.iloc[i,strn-1]=poll

    at2=pd.concat([call,cl],axis=1,ignore_index=True)

    at2.to_excel('M&I(ece).xlsx')
    
def cso():
    at1=pd.read_excel('CSO.xlsx')
    strc='class'
    print('enter class number')
    strn=input()
    classno=strc+strn
    strn=int(strn)
    cl=at1.iloc[:,3:43]
    call=at1.iloc[:,1:3]
    #print(cl.iloc[:,strn-1])
    col=len(call.axes[0])
    col=int(col)
    print("Enter '1' for Present and '0' for Absent")
    for i in range (1,col):
        pr=call.iloc[i,]
        pr=tuple(pr)
        pr=str(pr)
        print(pr)
        poll=int(input())
        cl.iloc[i,strn-1]=poll

    at2=pd.concat([call,cl],axis=1,ignore_index=True)

    at2.to_excel('CSO.xlsx')
    
def nmptcse():
    at1=pd.read_excel('NMPT(cse).xlsx')
    strc='class'
    print('enter class number')
    strn=input()
    classno=strc+strn
    strn=int(strn)
    cl=at1.iloc[:,3:43]
    call=at1.iloc[:,1:3]
    #print(cl.iloc[:,strn-1])
    col=len(call.axes[0])
    col=int(col)
    print("Enter '1' for Present and '0' for Absent")
    for i in range (1,col):
        pr=call.iloc[i,]
        pr=tuple(pr)
        pr=str(pr)
        print(pr)
        poll=int(input())
        cl.iloc[i,strn-1]=poll
    
    at2=pd.concat([call,cl],axis=1,ignore_index=True)

    at2.to_excel('NMPT(cse).xlsx')
    
def nmptece():
    at1=pd.read_excel('NMPT(ece).xlsx')
    print(at1)
    strc='class'
    print('enter class number')
    strn=input()
    classno=strc+strn
    strn=int(strn)
    cl=at1.iloc[:,3:43]
    call=at1.iloc[:,1:3]
    #print(cl.iloc[:,strn-1])
    col=len(call.axes[0])
    col=int(col)
    print("Enter '1' for Present and '0' for Absent")
    for i in range (1,col):
        pr=call.iloc[i,]
        pr=tuple(pr)
        pr=str(pr)
        print(pr)
        poll=int(input())
        cl.iloc[i,strn-1]=poll
    
    at2=pd.concat([call,cl],axis=1,ignore_index=True)

    at2.to_excel('NMPT(ece).xlsx')
    
def ss():
    at1=pd.read_excel('Signal System.xlsx')
    strc='class'
    print('enter class number')
    strn=input()
    classno=strc+strn
    strn=int(strn)
    cl=at1.iloc[:,3:43]
    call=at1.iloc[:,1:3]
    #print(cl.iloc[:,strn-1])
    col=len(call.axes[0])
    col=int(col)
    print("Enter '1' for Present and '0' for Absent")
    for i in range (1,col):
        pr=call.iloc[i,]
        pr=tuple(pr)
        pr=str(pr)
        print(pr)
        poll=int(input())
        cl.iloc[i,strn-1]=poll
    
    at2=pd.concat([call,cl],axis=1,ignore_index=True)
    
    at2.to_excel('Signal System.xlsx')
    
def nt():
    at1=pd.read_excel('NT.xlsx')
    strc='class'
    print('enter class number')
    strn=input()
    classno=strc+strn
    strn=int(strn)
    cl=at1.iloc[:,3:43]
    call=at1.iloc[:,1:3]
    #print(cl.iloc[:,strn-1])
    col=len(call.axes[0])
    col=int(col)
    print("Enter '1' for Present and '0' for Absent")
    for i in range (1,col):
        pr=call.iloc[i,]
        pr=tuple(pr)
        pr=str(pr)
        print(pr)
        poll=int(input())
        cl.iloc[i,strn-1]=poll
    
    at2=pd.concat([call,cl],axis=1,ignore_index=True)

    at2.to_excel('NT.xlsx')
    
def aic():
    at1=pd.read_excel('AIC.xlsx')
    strc='class'
    print('enter class number')
    strn=input()
    classno=strc+strn
    strn=int(strn)
    cl=at1.iloc[:,3:43]
    call=at1.iloc[:,1:3]
    #print(cl.iloc[:,strn-1])
    col=len(call.axes[0])
    col=int(col)
    print("Enter '1' for Present and '0' for Absent")
    for i in range (1,col):
        pr=call.iloc[i,]
        pr=tuple(pr)
        pr=str(pr)
        print(pr)
        poll=int(input())
        cl.iloc[i,strn-1]=poll

    at2=pd.concat([call,cl],axis=1,ignore_index=True)

    at2.to_excel('AIC.xlsx')
    

def itw1cse1():
    cal=pd.read_excel('itw1(cse).xlsx')
    cal=cal.drop('Unnamed: 0',axis=1)
    #print("printing cal")
    #print(cal)
    print("Enter Student Name or Roll no.")
    strf=input()
    find=cal[cal.isin([strf]).any(axis=1)]
    if find.empty:
        print("No student With Given Info")
    else:
        attend=find.iloc[:,2:42]
        s= attend.sum(axis=0)
        s=list(s)
        sun=sum(s)
        print("\nclasses attended outof 40 : "+str(sun))
        print("\nattendance percentage :")
        percent=(sun/40.0)*100
        print(round(percent,2))
    
def itw1ece1():
    cal=pd.read_excel('itw1(ece).xlsx')
    cal=cal.drop('Unnamed: 0',axis=1)
    print("Enter Student Name or Roll no.")
    strf=input()
    find=cal[cal.isin([strf]).any(axis=1)]
    if find.empty:
       print("No student With Given Info")
    else:
        attend=find.iloc[:,2:42]
        s= attend.sum(axis=0)
        s=list(s)
        sun=sum(s)
        print("\nclasses attended outof 40 : "+str(sun))
        print("\nattendance percentage :")
        percent=(sun/40.0)*100
        print(round(percent,2)) 
def dsa1():
    cal=pd.read_excel('DSA.xlsx')
    cal=cal.drop('Unnamed: 0',axis=1)
    print("Enter Student Name or Roll no.")
    strf=input()
    find=cal[cal.isin([strf]).any(axis=1)]
    if find.empty:
                print("No student With Given Info")
    else:
        attend=find.iloc[:,2:42]
        s= attend.sum(axis=0)
        s=list(s)
        sun=sum(s)
        print("\nclasses attended outof 40 : "+str(sun))
        print("\nattendance percentage :")
        percent=(sun/40.0)*100
        print(round(percent,2))
def oop1():
    cal=pd.read_excel('OOP.xlsx')
    cal=cal.drop('Unnamed: 0',axis=1)
    print("Enter Student Name or Roll no.")
    strf=input()
    find=cal[cal.isin([strf]).any(axis=1)]
    if find.empty:
        print("No student With Given Info")
    else:
        attend=find.iloc[:,2:42]
        s= attend.sum(axis=0)
        s=list(s)
        sun=sum(s)
        print("\nclasses attended outof 40 : "+str(sun))
        print("\nattendance percentage :")
        percent=(sun/40.0)*100
        print(round(percent,2))
    
def upcse1 ():
    cal=pd.read_excel('M&I(cse).xlsx')
    cal=cal.drop('Unnamed: 0',axis=1)
    print("Enter Student Name or Roll no.")
    strf=input()
    find=cal[cal.isin([strf]).any(axis=1)]
    if find.empty:
       print("No student With Given Info")
    else:
        attend=find.iloc[:,2:42]
        s= attend.sum(axis=0)
        s=list(s)
        sun=sum(s)
        print("\nclasses attended outof 40 : "+str(sun))
        print("\nattendance percentage :")
        percent=(sun/40.0)*100
        print(round(percent,2))
    
def upece1 ():
    cal=pd.read_excel('M&I(ece).xlsx')
    cal=cal.drop('Unnamed: 0',axis=1)
    print("Enter Student Name or Roll no.")
    strf=input()
    find=cal[cal.isin([strf]).any(axis=1)]
    if find.empty:
        print("No student With Given Info")
    else:
        attend=find.iloc[:,2:42]
        s= attend.sum(axis=0)
        s=list(s)
        sun=sum(s)
        print("\nclasses attended outof 40 : "+str(sun))
        print("\nattendance percentage :")
        percent=(sun/40.0)*100
        print(round(percent,2))

def cso1():
    cal=pd.read_excel('CSO.xlsx')
    cal=cal.drop('Unnamed: 0',axis=1)
    print("Enter Student Name or Roll no.")
    strf=input()
    find=cal[cal.isin([strf]).any(axis=1)]
    if find.empty:
                print("No student With Given Info")
    else:
        attend=find.iloc[:,2:42]
        s= attend.sum(axis=0)
        s=list(s)
        sun=sum(s)
        print("\nclasses attended outof 40 : "+str(sun))
        print("\nattendance percentage :")
        percent=(sun/40.0)*100
        print(round(percent,2))    
def nmptcse1 ():
    cal=pd.read_excel('NMPT(cse).xlsx')
    cal=cal.drop('Unnamed: 0',axis=1)
    print("Enter Student Name or Roll no.")
    strf=input()
    find=cal[cal.isin([strf]).any(axis=1)]
    if find.empty:
                print("No student With Given Info")
    else:
        attend=find.iloc[:,2:42]
        s= attend.sum(axis=0)
        s=list(s)
        sun=sum(s)
        print("\nclasses attended outof 40 : "+str(sun))
        print("\nattendance percentage :")
        percent=(sun/40.0)*100
        print(round(percent,2))    
def nmptece1 ():
    cal=pd.read_excel('NMPT(ece).xlsx')
    cal=cal.drop('Unnamed: 0',axis=1)
    print("Enter Student Name or Roll no.")
    strf=input()
    find=cal[cal.isin([strf]).any(axis=1)]
    if find.empty:
                print("No student With Given Info")
    else:
        attend=find.iloc[:,2:42]
        s= attend.sum(axis=0)
        s=list(s)
        sun=sum(s)
        print("\nclasses attended outof 40 : "+str(sun))
        print("\nattendance percentage :")
        percent=(sun/40.0)*100
        print(round(percent,2))    
def nmptcse1 ():
    cal=pd.read_excel('NMPT(cse).xlsx')
    cal=cal.drop('Unnamed: 0',axis=1)
    print("Enter Student Name or Roll no.")
    strf=input()
    find=cal[cal.isin([strf]).any(axis=1)]
    if find.empty:
                print("No student With Given Info")
    else:
        attend=find.iloc[:,2:42]
        s= attend.sum(axis=0)
        s=list(s)
        sun=sum(s)
        print("\nclasses attended outof 40 : "+str(sun))
        print("\nattendance percentage :")
        percent=(sun/40.0)*100
        print(round(percent,2))    
def ss1 ():
    cal=pd.read_excel('Signal System.xlsx')
    cal=cal.drop('Unnamed: 0',axis=1)
    print("Enter Student Name or Roll no.")
    strf=input()
    find=cal[cal.isin([strf]).any(axis=1)]
    if find.empty:
                print("No student With Given Info")
    else:
        attend=find.iloc[:,2:42]
        s= attend.sum(axis=0)
        s=list(s)
        sun=sum(s)
        print("\nclasses attended outof 40 : "+str(sun))
        print("\nattendance percentage :")
        percent=(sun/40.0)*100
        print(round(percent,2))    
def nt1 ():
    cal=pd.read_excel('NT.xlsx')
    cal=cal.drop('Unnamed: 0',axis=1)
    print("Enter Student Name or Roll no.")
    strf=input()
    find=cal[cal.isin([strf]).any(axis=1)]
    if find.empty:
                print("No student With Given Info")
    else:
        attend=find.iloc[:,2:42]
        s= attend.sum(axis=0)
        s=list(s)
        sun=sum(s)
        print("\nclasses attended outof 40 : "+str(sun))
        print("\nattendance percentage :")
        percent=(sun/40.0)*100
        print(round(percent,2))
    
def aic1 ():
    cal=pd.read_excel('AIC.xlsx')
    cal=cal.drop('Unnamed: 0',axis=1)
    print("Enter Student Name or Roll no.")
    strf=input()
    find=cal[cal.isin([strf]).any(axis=1)]
    if find.empty:
                print("No student With Given Info")
    else:
        attend=find.iloc[:,2:42]
        s= attend.sum(axis=0)
        s=list(s)
        sun=sum(s)
        print("\nclasses attended outof 40 : "+str(sun))
        print("\nattendance percentage :")
        percent=(sun/40.0)*100
        print(round(percent,2))
    
def select(i):
    if(i==1):
        itw1cse()
    elif(i==2):
        itw1ece()
    elif(i==3):
        dsa()
    elif(i==4):
        oop()
    elif(i==5):
        upcse()
    elif(i==6):
        upece()
    elif(i==7):
        cso()
    elif(i==8):
        nmptcse()
    elif(i==9):
        nmptece()
    elif(i==10):
        nt()
    elif(i==11):
        ss()
    elif(i==12):
        aic()
    else:
        print("Invalid Input")

def select1(j):
    if(j==1):
        itw1cse1()
    elif(j==2):
        itw1ece1()
    elif(j==3):
        dsa1()
    elif(j==4):
        oop1()
    elif(j==5):
        upcse1()
    elif(j==6):
        upece1()
    elif(j==7):
        cso1()
    elif(j==8):
        nmptcse1()
    elif(j==9):
        nmptece1()
    elif(j==10):
        nt1()
    elif(j==11):
        ss1()
    elif(j==12):
        aci1()
    else:
        print("Invalid Input")

while(cin!='0'):
    print("\npress 1 for Create New Database")
    print("press 2 for Importing Student data to Courses Database")
    print("Press 3 for searching Student info")
    print("Press 4 for taking attendence")
    print("press 5 for attendence statistics")
    print("press 0 for Exit")
    cin=input()
    if(cin=='1'):
        if(t==True):
            print("You have already Database if created new previous will be deleted\nDo you Want to Create New")
            print(" Y or N")
            cin1=input()
            if(cin1=='y' or cin1=='Y'):
                createdata()
                classday=[['class1','class2','class3','class4','class5','class6','class7','class8','class9','class10',
                           'class11','class12','class13','class14','class15','class16','class17','class18','class19','class20',
                           'class21','class22','class23','class24','class25','class26','class27','class28','class29','class30',
                           'class31','class32','class33','class34','class35','class36','class37','class38','class39','class40']]
                coursedf_cse=pd.read_excel('Data.xlsx',sheet_name='CSE',usecols=[1,2])
                coursedf_ece=pd.read_excel('Data.xlsx',sheet_name='ECE',usecols=[1,2])
                count_cse=len(coursedf_cse.axes[0])
                count_cse=int(count_cse)
                count_ece=len(coursedf_ece.axes[0])
                count_ece=int(count_ece)
                #print(count)
                #print(coursedf)
                classdf_cse=pd.DataFrame(classday)
                #print(classdf)
                for i in range (1,count_cse):
                    for j in range (0,40):
                        classdf_cse.at[i,j]=0
        
                classdf_ece=pd.DataFrame(classday)
                #print(classdf)
                for i in range (1,count_ece):
                    for j in range (0,40):
                        classdf_ece.at[i,j]=0
            
            
          
               # print(classdf_cse)
                sheetdf_cse=pd.concat([coursedf_cse,classdf_cse],axis=1,ignore_index=True)
                #print(sheetdf_cse)
                sheetdf_ece=pd.concat([coursedf_ece,classdf_ece],axis=1,ignore_index=True)
                #print(sheetdf_ece)

                while(cin2!='0'):
                    print("press 1 for Adding new student to Database")
                    print("press 0 if you complete database")
                    cin2=input()
                    if(cin2=='1'):
                        s1.addstu()
                
        else:
            createdata()
            print("add students")
            while(cin2!='0'):
                print("press 1 for Adding new student to Database")
                print("press 0 if you complete database")
                cin2=input()
                if(cin2=='1'):
                    s1.addstu()

    elif(cin=='2'):
        if(os.path.exists("NT.xlsx")):
            print("you already imported Data to course Database")
            print("Do you want to overwrite Previous with new one")
            print(" Y or N")
            cin1=input()
            if(cin1=='y' or cin1=='Y'):
                classday=[['class1','class2','class3','class4','class5','class6','class7','class8','class9','class10',
                           'class11','class12','class13','class14','class15','class16','class17','class18','class19','class20',
                           'class21','class22','class23','class24','class25','class26','class27','class28','class29','class30',
                           'class31','class32','class33','class34','class35','class36','class37','class38','class39','class40']]
                coursedf_cse=pd.read_excel('Data.xlsx',sheet_name='CSE',usecols=[1,2])
                coursedf_ece=pd.read_excel('Data.xlsx',sheet_name='ECE',usecols=[1,2])
                count_cse=len(coursedf_cse.axes[0])
                count_cse=int(count_cse)
                count_ece=len(coursedf_ece.axes[0])
                count_ece=int(count_ece)
                #print(count)
                #print(coursedf)
                classdf_cse=pd.DataFrame(classday)
                #print(classdf)
                for i in range (1,count_cse):
                    for j in range (0,40):
                        classdf_cse.at[i,j]=0
        
                classdf_ece=pd.DataFrame(classday)
                #print(classdf)
                for i in range (1,count_ece):
                    for j in range (0,40):
                        classdf_ece.at[i,j]=0
            
            
          
            #print(classdf_cse)
                sheetdf_cse=pd.concat([coursedf_cse,classdf_cse],axis=1,ignore_index=True)
            #print(sheetdf_cse)
                sheetdf_ece=pd.concat([coursedf_ece,classdf_ece],axis=1,ignore_index=True)
            #print(sheetdf_ece)
                c1.import_course()
        else:
            
            classday=[['class1','class2','class3','class4','class5','class6','class7','class8','class9','class10',
                           'class11','class12','class13','class14','class15','class16','class17','class18','class19','class20',
                           'class21','class22','class23','class24','class25','class26','class27','class28','class29','class30',
                           'class31','class32','class33','class34','class35','class36','class37','class38','class39','class40']]
            coursedf_cse=pd.read_excel('Data.xlsx',sheet_name='CSE',usecols=[1,2])
            coursedf_ece=pd.read_excel('Data.xlsx',sheet_name='ECE',usecols=[1,2])
            count_cse=len(coursedf_cse.axes[0])
            count_cse=int(count_cse)
            count_ece=len(coursedf_ece.axes[0])
            count_ece=int(count_ece)
                #print(count)
                #print(coursedf)
            classdf_cse=pd.DataFrame(classday)
                #print(classdf)
            for i in range (1,count_cse):
                for j in range (0,40):
                    classdf_cse.at[i,j]=0
        
            classdf_ece=pd.DataFrame(classday)
                #print(classdf)
            for i in range (1,count_ece):
                for j in range (0,40):
                    classdf_ece.at[i,j]=0
            
            
          
            #print(classdf_cse)
            sheetdf_cse=pd.concat([coursedf_cse,classdf_cse],axis=1,ignore_index=True)
            #print(sheetdf_cse)
            sheetdf_ece=pd.concat([coursedf_ece,classdf_ece],axis=1,ignore_index=True)
            #print(sheetdf_ece)
            c1.import_course()
    elif(cin=='3'):
        s1.search_name()
        
    elif(cin=='4'):
        print("Select Course:\n")
        print("1:ITW1(CSE)")
        print("\n2:ITW1(ECE)")
        print("\n3:DSA")
        print("\n4:OOP")
        print("\n5:Microprocessor & Interfacing(CSE)")
        print("\n6:Microprocessor & Interfacing(ECE)")
        print("\n7:CSO")
        print("\n8:NMPT(CSE)")
        print("\n9:NMPT(ECE)")
        print("\n10:Network Theory")
        print("\n11:Signal System")
        print("\n12:ACI")
        c=int(input())
        select(c)
        
    elif(cin=='5'):
        print("Select Course:\n")
        print("1:ITW1(CSE)")
        print("\n2:ITW1(ECE)")
        print("\n3:DSA")
        print("\n4:OOP")
        print("\n5:Microprocessor & Interfacing(CSE)")
        print("\n6:Microprocessor & Interfacing(ECE)")
        print("\n7:CSO")
        print("\n8:NMPT(CSE)")
        print("\n9:NMPT(ECE)")
        print("\n10:Network Theory")
        print("\n11:Signal System")
        print("\n12:ACI")
        k=int(input())
        select1(k)
        
